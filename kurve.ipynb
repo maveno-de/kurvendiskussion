{
 "cells": [
  {
   "cell_type": "code",
   "execution_count": 1,
   "id": "3b618c75",
   "metadata": {},
   "outputs": [],
   "source": [
    "%%capture\n",
    "import sys\n",
    "!{sys.executable} -m pip install matplotlib\n",
    "import matplotlib.pyplot as plt\n",
    "import numpy as np\n",
    "from __future__ import print_function\n",
    "from ipywidgets import interact, interactive, fixed, interact_manual\n",
    "import ipywidgets as widgets"
   ]
  },
  {
   "cell_type": "code",
   "execution_count": 2,
   "id": "8d478637",
   "metadata": {},
   "outputs": [],
   "source": [
    "def plt_arrays(x, y, title=\"\", color=\"black\", linestyle=\"solid\", linewidth=1):\n",
    "    fig = plt.figure()\n",
    "    axes = fig.add_subplot(111)\n",
    "    axes.plot(x,y, color=color, linestyle=linestyle, linewidth=linewidth)\n",
    "    axes.set_title(title)\n",
    "    axes.grid()\n",
    "    \n",
    "    plt.xlim([-10, 10])\n",
    "    plt.ylim([-10, 10])\n",
    "    plt.show()"
   ]
  },
  {
   "cell_type": "code",
   "execution_count": 3,
   "id": "2181bf71",
   "metadata": {},
   "outputs": [],
   "source": [
    "def f(x1):\n",
    "    x=np.linspace(-10, 10, 20)\n",
    "    y = 2*(x-x1)+1\n",
    "\n",
    "    plt_arrays(x,y,title=\"Linear\")\n"
   ]
  },
  {
   "cell_type": "code",
   "execution_count": 4,
   "id": "a954c181",
   "metadata": {},
   "outputs": [
    {
     "data": {
      "application/vnd.jupyter.widget-view+json": {
       "model_id": "59a01b6f75214ffaa8ff3c58c3ad8096",
       "version_major": 2,
       "version_minor": 0
      },
      "text/plain": [
       "interactive(children=(FloatSlider(value=0.0, description='x1', max=10.0, min=-10.0, step=0.001), Output()), _d…"
      ]
     },
     "metadata": {},
     "output_type": "display_data"
    }
   ],
   "source": [
    "interact(f, x1=(-10.0,10.0,0.001));"
   ]
  },
  {
   "cell_type": "code",
   "execution_count": null,
   "id": "0b5d2bd7",
   "metadata": {},
   "outputs": [],
   "source": []
  },
  {
   "cell_type": "code",
   "execution_count": null,
   "id": "f2e4b6b7",
   "metadata": {},
   "outputs": [],
   "source": []
  }
 ],
 "metadata": {
  "kernelspec": {
   "display_name": "Python 3 (ipykernel)",
   "language": "python",
   "name": "python3"
  },
  "language_info": {
   "codemirror_mode": {
    "name": "ipython",
    "version": 3
   },
   "file_extension": ".py",
   "mimetype": "text/x-python",
   "name": "python",
   "nbconvert_exporter": "python",
   "pygments_lexer": "ipython3",
   "version": "3.9.7"
  }
 },
 "nbformat": 4,
 "nbformat_minor": 5
}
