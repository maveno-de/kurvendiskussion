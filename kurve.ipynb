{
 "cells": [
  {
   "cell_type": "code",
   "execution_count": 1,
   "id": "2e862ef5",
   "metadata": {},
   "outputs": [],
   "source": [
    "%%capture\n",
    "import sys\n",
    "!{sys.executable} -m pip install matplotlib ipywidgets\n",
    "import matplotlib.pyplot as plt\n",
    "import numpy as np\n",
    "from __future__ import print_function\n",
    "from ipywidgets import interact, interactive, fixed, interact_manual\n",
    "import ipywidgets as widgets"
   ]
  },
  {
   "cell_type": "code",
   "execution_count": 2,
   "id": "b851d5df",
   "metadata": {},
   "outputs": [],
   "source": [
    "def plt_arrays(x, y, title=\"\", color=\"black\", linestyle=\"solid\", linewidth=1):\n",
    "    fig = plt.figure()\n",
    "    axes = fig.add_subplot(111)\n",
    "    axes.plot(x,y, color=color, linestyle=linestyle, linewidth=linewidth)\n",
    "    axes.set_title(title)\n",
    "    axes.grid()\n",
    "    \n",
    "    axes.spines['left'].set_position('zero')\n",
    "    axes.spines['right'].set_color('none')\n",
    "    axes.spines['bottom'].set_position('zero')\n",
    "    axes.spines['top'].set_color('none')\n",
    "    axes.xaxis.set_ticks_position('bottom')\n",
    "    axes.yaxis.set_ticks_position('left')\n",
    "    \n",
    "    plt.xlim([-10, 10])\n",
    "    plt.ylim([-10, 10])\n",
    "    plt.show()"
   ]
  },
  {
   "cell_type": "code",
   "execution_count": 3,
   "id": "68f28601",
   "metadata": {},
   "outputs": [],
   "source": [
    "def f(m, x1, y1):\n",
    "    x=np.linspace(-10, 10, 20)\n",
    "    y = m*(x-x1)+y1\n",
    "\n",
    "    title=\"$f(x) = m*(x-(x_1))+y_1$\\n$f(x) = %s*(x-(%s))+%s$\" % (m,x1,y1)\n",
    "    plt_arrays(x,y,title)\n"
   ]
  },
  {
   "cell_type": "code",
   "execution_count": 4,
   "id": "c7abd982",
   "metadata": {},
   "outputs": [
    {
     "data": {
      "application/vnd.jupyter.widget-view+json": {
       "model_id": "0599d394020942e2bd2eec4702be2fe7",
       "version_major": 2,
       "version_minor": 0
      },
      "text/plain": [
       "interactive(children=(FloatSlider(value=0.0, description='m', max=2.0, min=-2.0, step=0.001), FloatSlider(valu…"
      ]
     },
     "metadata": {},
     "output_type": "display_data"
    }
   ],
   "source": [
    "interact(f, m=(-2.0,2,0.001), x1=(-10.0,10.0,0.001), y1=(-10.0,10.0,0.001));"
   ]
  },
  {
   "cell_type": "code",
   "execution_count": null,
   "id": "9c8398d9",
   "metadata": {},
   "outputs": [],
   "source": []
  },
  {
   "cell_type": "code",
   "execution_count": null,
   "id": "3b26e8e0",
   "metadata": {},
   "outputs": [],
   "source": []
  }
 ],
 "metadata": {
  "kernelspec": {
   "display_name": "Python 3 (ipykernel)",
   "language": "python",
   "name": "python3"
  },
  "language_info": {
   "codemirror_mode": {
    "name": "ipython",
    "version": 3
   },
   "file_extension": ".py",
   "mimetype": "text/x-python",
   "name": "python",
   "nbconvert_exporter": "python",
   "pygments_lexer": "ipython3",
   "version": "3.9.7"
  }
 },
 "nbformat": 4,
 "nbformat_minor": 5
}
